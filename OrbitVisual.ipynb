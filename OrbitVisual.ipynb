{
 "cells": [
  {
   "cell_type": "markdown",
   "metadata": {},
   "source": [
    "# Simulating Planetary orbits \n",
    "Uisng the Knowledge of classical mechanics, and usign Vpython i will create a animaton of planetary motion orbiting around a star\n",
    "\n",
    "## Introduction:\n",
    "\n",
    "### Newton's Laws of Universal Graviation \n",
    "\n",
    "A point mass $m_{1}$ atrracts another point mass $m_{2}$ by a force $F_{2}$ pointing along the line intersecting both points. In the same way, $m_{2}$ attracts $m_{1}$ with an equal force $F_{1}$ pointing in the opposite direction.\n",
    "$$ F_{1} = F_{2} = G \\frac{m_{1} m_{2}}{r^{2}}  $$\n",
    "\n",
    "\n",
    "Consider two masses $m_{1}$ and $m_{2}$. The gravitational force exerted on $m_{1}$ due to $m_{2}$ will be\n",
    "$$ F_{1,2} = G \\frac{m_{1} m_{2}}{\\lvert r_{2,1}\\rvert^{2}}\\mathbf{\\hat{r}_{2,1}}$$   \n",
    "\n",
    "\n",
    "Similarly, the force exerted on $m_{2}$ due to $m_{1}$ will be \n",
    "$$ F_{2,1} = - G \\frac{m_{1} m_{2}}{\\lvert r_{1,2}\\rvert^{2}}\\mathbf{\\hat{r}_{1,2}}$$   \n",
    "\n",
    "\n",
    "And clearly we see that the forces are equal but opposite, as they should be according to Newton's Third Law.\n",
    "$$ F_{1,2}  = - F_{2,1} $$  \n",
    "\n",
    "From Newton's second law, we also have $\\mathbf{F} = m\\mathbf{a}$, so therefore we can see that the accel;eration experienced by $m_{1}$ due to $m_{2}$ and vice verse will be:\n",
    "$$ a_{1} = - G \\frac{m_{2}}{r_{1,2}^{2}}\\mathbf{\\hat{r}_{1,2}} $$\n",
    "\n",
    "$$ a_{2} = - G \\frac{m_{1}}{r_{2,1}^{2}}\\mathbf{\\hat{r}_{2,1}}  $$\n",
    "\n",
    "These accelerations will not be equal in magnitude unless the objects have equal masses\n",
    "\n",
    "\n",
    "### Converting Newton's Laws to Numerical Model\n",
    "\n",
    "Consider a system with two objects: a star with mass M and a planet with mass m. In the system, M >> m and so the acceleration experienced by the star due to the planet will be small compared to the acceleration experienced by the planet due to star. Assuming that the acceleration on the star due to planet is insignificant so that we can neglect it an put the star in a fixed position at the origin of our co-ordinate system. The gravitational force on the planet due to star is:\n",
    "$$ F_{m,M} = - G \\frac{M m}{\\lvert r_{M,m}\\rvert^{2}}\\mathbf{\\hat{r}_{M,m}} $$   \n",
    "\n",
    "Can work out the motion of the planet straight from this, just by using laws of motion\n",
    "$$ F_{m,M} = - G \\frac{M m}{\\lvert \\mathbf{r} \\rvert^{3}}\\mathbf{r} $$   \n",
    "\n",
    "In order to calculate the motion of the planet around the star, need to take the initial position and velocity of planet and integrate in order to calculate the force. But I will use the Euler's method. Euler's method works as follows: if the position and velocity of the object at time $t_i$ are $\\mathbf{r}_i$ and $\\mathbf{v}_i$ respectively, then:\n",
    "- we use our knowledge of the forces acting on the object to calculate its acceleration at that time, $\\mathbf{a}_i$;\n",
    "- the position at the next time step, $\\Delta t$ later, is $\\mathbf{r}_{i+1} = \\mathbf{r} + \\mathbf{v}_i \\Delta t$;\n",
    "- the velocity at the next time step, $\\Delta t$ later, is $\\mathbf{v}_{i+1} = \\mathbf{v}_i + \\mathbf{a}_i \\Delta t$.\n",
    " \n",
    "This results to replace the differentials to small finite differences \n",
    "$$ F_{m,M} = m \\frac{d\\mathbf{v}}{dt} \\approx \\frac{\\delta\\mathbf{v}}{\\delta{t}} $$ \n",
    "\n",
    "Then rearrange this to give the change in velocity of the planet in the time $\\delta{t}$\n",
    "$$ \\delta\\mathbf{v} = \\frac{F_{M,m}}{m}\\delta{t} = -GM\\frac{\\mathbf{r}}{\\lvert \\mathbf{r} \\rvert^{3}} \\delta{t} $$\n",
    "\n",
    "Similarly, rewrite the change in the planets psoition over $\\delta{t}$\n",
    "$$ \\delta\\mathbf{r} = \\mathbf{v}\\delta{t} $$\n",
    "\n",
    "Given the starting points of position and velocity and a fixed timestep $\\delta{t}$, we can calculate how $\\mathbf{r}$ and $\\mathbf{v}$ change:\n",
    "$$ \\mathbf{r}( t + \\delta{t}) = \\mathbf{r}(t) + \\delta\\mathbf{r} = \\mathbf{r}(t) + \\mathbf{v}\\delta{t}$$\n",
    "\n",
    "$$ \\mathbf{v}( t + \\delta{t}) = \\mathbf{v}(t) + \\delta\\mathbf{v} = \\dots = \\mathbf{v}(t) - \\frac{GM}{\\lvert r\\lvert ^{2}}\\mathbf{\\hat{r}} \\delta{t} $$\n",
    "\n",
    "Using these equations, it is possible to calculate and animate the path of the planet."
   ]
  },
  {
   "cell_type": "code",
   "execution_count": 1,
   "metadata": {},
   "outputs": [
    {
     "data": {
      "text/html": [
       "<div id=\"glowscript\" class=\"glowscript\"></div>"
      ],
      "text/plain": [
       "<IPython.core.display.HTML object>"
      ]
     },
     "metadata": {},
     "output_type": "display_data"
    },
    {
     "data": {
      "application/javascript": [
       "if (typeof Jupyter !== \"undefined\") { window.__context = { glowscript_container: $(\"#glowscript\").removeAttr(\"id\")};}else{ element.textContent = ' ';}"
      ],
      "text/plain": [
       "<IPython.core.display.Javascript object>"
      ]
     },
     "metadata": {},
     "output_type": "display_data"
    }
   ],
   "source": [
    "from vpython import vector, mag, sphere, rate, color, canvas\n",
    "G = 1.      # gravitational constant [using units where gravitational constant is 1.0]"
   ]
  },
  {
   "cell_type": "markdown",
   "metadata": {},
   "source": [
    "## Part A"
   ]
  },
  {
   "cell_type": "markdown",
   "metadata": {},
   "source": [
    "### 1. Calculating the gravitational force between two objects\n",
    "\n",
    "You should complete the following function, without changing its name, arguments or docstring, to calculate the force on one object due to the gravitational field of another. Note that we are using units where the gravitational constant G has the value 1, so masses and times are also given in non-standard units."
   ]
  },
  {
   "cell_type": "code",
   "execution_count": 2,
   "metadata": {},
   "outputs": [],
   "source": [
    "def force(pos1, pos2, m1, m2):\n",
    "    \"\"\"\n",
    "    Returns the gravitational force exerted by object 2 on object 1.\n",
    "    Input:\n",
    "      - pos1 = position vector of first object\n",
    "      - pos2 = position vector of second object\n",
    "      - m1   = mass of first object\n",
    "      - m2   = mass of second object\n",
    "    Depends on:\n",
    "      - G    = gravitational constant (global variable)\n",
    "    \"\"\"\n",
    "    force = (  -G * (m1 * m2) * (pos1 - pos2) ) / mag((pos1 - pos2))**3 \n",
    "    return force"
   ]
  },
  {
   "cell_type": "markdown",
   "metadata": {},
   "source": [
    "#### Testing your function\n",
    "\n",
    "The following cell applies some tests to help you make sure your `force` function works correctly before you use it in the rest of the task. You do not need to understand the details of how it works, but it may help you narrow down any bugs in your code. If each line of output starts with `OK` then it is likely (but not guaranteed) that you have implemented the function correctly.\n",
    "\n",
    "Please leave the code in this cell unchanged: you may add your own tests if you wish, but these should be in a separate cell."
   ]
  },
  {
   "cell_type": "code",
   "execution_count": 3,
   "metadata": {},
   "outputs": [
    {
     "name": "stdout",
     "output_type": "stream",
     "text": [
      "OK: correct results for input (<0, 0, 0>, <1, 0, 0>, 1, 1)\n",
      "OK: correct results for input (<1, 0, 0>, <0, 0, 0>, 1, 1)\n",
      "OK: correct results for input (<0, 0, 0>, <2, 0, 0>, 1, 1)\n",
      "OK: correct results for input (<0, 0, 0>, <0, 1, 0>, 1, 1)\n",
      "OK: correct results for input (<10, 0, 0>, <10, 1, 0>, 1, 1)\n",
      "OK: correct results for input (<0, 0, 0>, <1, 0, 0>, 2, 1)\n",
      "OK: correct results for input (<0, 0, 0>, <1, 0, 0>, 1, 2)\n"
     ]
    }
   ],
   "source": [
    "################################################\n",
    "#                                              #\n",
    "# Test force is correct in a few simple cases. #\n",
    "#                                              #\n",
    "#   DO NOT CHANGE THE CODE IN THIS CELL.       #\n",
    "#                                              #\n",
    "################################################\n",
    "\n",
    "def test_force(pos1, pos2, m1, m2, expected_force):\n",
    "    epsilon = 1e-10\n",
    "    f = force(pos1, pos2, m1, m2)\n",
    "    if not isinstance(f,vector):\n",
    "        print(f\"ERROR: function should return a vector but returns {f}.\")\n",
    "        return\n",
    "    args_as_string = f\"({pos1}, {pos2}, {m1}, {m2})\"\n",
    "    error = mag(f-expected_force)\n",
    "    if error<epsilon:\n",
    "        print(f\"OK: correct results for input {args_as_string}\")\n",
    "    else:\n",
    "        print(f\"ERROR: wrong results for input {args_as_string}\")\n",
    "        print(f\"  expected: {expected_force}\")\n",
    "        print(f\"  got:      {f}\")\n",
    "\n",
    "test_force(vector(0,0,0),vector(1,0,0),1,1,vector(1,0,0))    # distance = 1 in x direction\n",
    "test_force(vector(1,0,0),vector(0,0,0),1,1,vector(-1,0,0))   # swap objects\n",
    "test_force(vector(0,0,0),vector(2,0,0),1,1,vector(0.25,0,0)) # distance = 2\n",
    "test_force(vector(0,0,0),vector(0,1,0),1,1,vector(0,1,0))    # distance = 1 in y direction\n",
    "test_force(vector(10,0,0),vector(10,1,0),1,1,vector(0,1,0))  # displaced from origin\n",
    "test_force(vector(0,0,0),vector(1,0,0),2,1,vector(2,0,0))    # non-unit mass 1\n",
    "test_force(vector(0,0,0),vector(1,0,0),1,2,vector(2,0,0))    # non-unit mass 2"
   ]
  },
  {
   "cell_type": "markdown",
   "metadata": {},
   "source": [
    "### 2. Calculating the motion of a planet in the gravitational field of a star\n",
    "\n",
    "You should complete the following function, without changing its name, arguments or docstring, to calculate the new position and velocity of a planet after a time step `dt`, in the gravitational field of a star of a given mass situated at the origin. This function will need to call `force` to calculate the acceleration vector of the planet."
   ]
  },
  {
   "cell_type": "code",
   "execution_count": 4,
   "metadata": {},
   "outputs": [],
   "source": [
    "def move_planet(position, velocity, m_star, dt):\n",
    "    \"\"\"\n",
    "    Calculate motion of planet in the gravitational field of a star with given mass\n",
    "    at the origin, using Euler's method.\n",
    "    \n",
    "    Input:\n",
    "      - position: position vector of planet at start of time step\n",
    "      - velocity: velocity vector of planet at start of time step\n",
    "      - m_star:   mass of star\n",
    "      - dt:       time step\n",
    "      \n",
    "    Output: (position_new, velocity_new)\n",
    "      - position_new: position vector of planet at end of time step\n",
    "      - velocity_new: velocity vector of planet at end of time step\n",
    "      \n",
    "    Depends on:\n",
    "      - force = function to calculate the gravitational force between two objects\n",
    "    \"\"\"\n",
    "    position_new = (position) + (velocity * dt)\n",
    "    velocity_new = velocity + force(position, vector(0,0,0), m_star, 1) * dt\n",
    "    return position_new, velocity_new"
   ]
  },
  {
   "cell_type": "markdown",
   "metadata": {},
   "source": [
    "#### Testing your function\n",
    "\n",
    "The following cell applies some tests to help you make sure your `move_planet` function works correctly before you use it in the rest of the task. You do not need to understand the details of how it works, but it may help you narrow down any bugs in your code. If each line of output starts with `OK` then it is likely (but not guaranteed) that you have implemented the function correctly.\n",
    "\n",
    "Please leave the code in this cell unchanged: you may add your own tests if you wish, but these should be in a separate cell. "
   ]
  },
  {
   "cell_type": "code",
   "execution_count": 5,
   "metadata": {},
   "outputs": [
    {
     "name": "stdout",
     "output_type": "stream",
     "text": [
      "OK: correct results for input <1, 0, 0>, <1, 0, 0>, 1, 0\n",
      "OK: correct results for input <1, 0, 0>, <1, 0, 0>, 1, 1\n",
      "OK: correct results for input <0, 1, 0>, <0, -1, 0>, 1, 1\n",
      "OK: correct results for input <1, 0, 0>, <0, 1, 0>, 1, 1\n",
      "OK: correct results for input <1, 0, 0>, <0, 1, 0>, 1, 0.1\n",
      "OK: correct results for input <1, 0, 0>, <0, 1, 0>, 2, 0.1\n",
      "OK: correct results for input <2, 0, 0>, <1, 0, 0>, 1, 1\n"
     ]
    }
   ],
   "source": [
    "######################################################\n",
    "#                                                    #\n",
    "# Test move_planet is correct in a few simple cases. #\n",
    "#                                                    #\n",
    "#   DO NOT CHANGE THE CODE IN THIS CELL.             #\n",
    "#                                                    #\n",
    "######################################################\n",
    "\n",
    "def test_move_planet(position, velocity, m_star, dt, expected_pos, expected_vel):\n",
    "    epsilon = 1e-10\n",
    "    results = move_planet(position, velocity, m_star, dt)\n",
    "    if not isinstance(results, tuple):\n",
    "        print(f\"ERROR: function should return two vectors but returns {results}.\")\n",
    "        return\n",
    "    if not len(results)==2:\n",
    "        print(f\"ERROR: function should return two vectors but returns {results}.\")\n",
    "        return\n",
    "    pos, vel = results\n",
    "    if not (isinstance(pos,vector) and isinstance(vel,vector)):\n",
    "        print(f\"ERROR: function should return two vectors but returns {results}.\")\n",
    "        return\n",
    "    args_as_string = f\"{position}, {velocity}, {m_star}, {dt}\"\n",
    "    err_pos, err_vel = mag(pos - expected_pos), mag(vel - expected_vel)\n",
    "    if err_pos < epsilon and err_vel < epsilon:\n",
    "        print(f\"OK: correct results for input {args_as_string}\")\n",
    "    else:\n",
    "        print(f\"ERROR: wrong results for input {args_as_string}\")\n",
    "        print(f\"  expected: {expected_pos, expected_vel}\")\n",
    "        print(f\"  got:      {results}\")\n",
    "\n",
    "\n",
    "test_move_planet(vector(1,0,0), vector(1,0,0), 1, 0, vector(1,0,0), vector(1,0,0))    # dt = 0: output = input\n",
    "test_move_planet(vector(1,0,0), vector(1,0,0), 1, 1, vector(2,0,0), vector(0,0,0))    # moving away from star\n",
    "test_move_planet(vector(0,1,0), vector(0,-1,0), 1, 1, vector(0,0,0), vector(0,-2,0))  # moving towards star\n",
    "test_move_planet(vector(1,0,0), vector(0,1,0), 1, 1, vector(1,1,0), vector(-1,1,0))   # moving past star\n",
    "test_move_planet(vector(1,0,0), vector(0,1,0), 1, 0.1, vector(1,0.1,0), vector(-0.1,1,0))  # smaller dt\n",
    "test_move_planet(vector(1,0,0), vector(0,1,0), 2, 0.1, vector(1,0.1,0), vector(-0.2,1,0))  # larger star mass\n",
    "test_move_planet(vector(2,0,0), vector(1,0,0), 1, 1, vector(3,0,0), vector(0.75,0,0)) # non-unit distance"
   ]
  },
  {
   "cell_type": "markdown",
   "metadata": {},
   "source": [
    "### 3. Animating the orbit of a planet\n",
    "\n",
    "You should complete the following function, without changing its name, arguments or docstring, to display an animation of the orbit of the planet with the given intial position and velocity, and the given time step. Your planet should leave a visible trail so that we can see the shape of path.\n",
    "\n",
    "Your animation should run for a suitable amount of time: we suggest around 10 seconds in real time."
   ]
  },
  {
   "cell_type": "code",
   "execution_count": 6,
   "metadata": {},
   "outputs": [],
   "source": [
    "def animate_planet(position, velocity, m_star, dt):\n",
    "    \"\"\"\n",
    "    Animate planetary orbit from given starting position, with given time step.\n",
    "    \n",
    "    Input:\n",
    "      - position: position vector of planet at start of simulation\n",
    "      - velocity: velocity vector of planet at start of simulation\n",
    "      - m_star:   mass of star\n",
    "      - dt:       time step\n",
    "    \"\"\"\n",
    "    planet = sphere(pos=position ,radius=0.1, make_trail=True, color=color.blue)\n",
    "    \n",
    "    fps = 1/dt                              # animation rate [Hz] from time step\n",
    "    time = 0.                              # initial time [s]\n",
    "    max_time = 1.\n",
    "    \n",
    "    while time < max_time:\n",
    "        rate(fps)\n",
    "        position, velocity = move_planet(position, velocity, m_star, dt)\n",
    "        planet.pos = position\n",
    "        time += dt"
   ]
  },
  {
   "cell_type": "markdown",
   "metadata": {},
   "source": [
    "#### Testing your function\n",
    "\n",
    "If you have implemented all three functions correctly, the following cell should show an almost circular orbit. You may need to adjust the animation rate in the function `animate_planet` to get a smooth path but you should not change the given time step."
   ]
  },
  {
   "cell_type": "code",
   "execution_count": 7,
   "metadata": {},
   "outputs": [
    {
     "data": {
      "text/html": [
       "<div id=\"glowscript\" class=\"glowscript\"></div>"
      ],
      "text/plain": [
       "<IPython.core.display.HTML object>"
      ]
     },
     "metadata": {},
     "output_type": "display_data"
    },
    {
     "data": {
      "application/javascript": [
       "if (typeof Jupyter !== \"undefined\") { window.__context = { glowscript_container: $(\"#glowscript\").removeAttr(\"id\")};}else{ element.textContent = ' ';}"
      ],
      "text/plain": [
       "<IPython.core.display.Javascript object>"
      ]
     },
     "metadata": {},
     "output_type": "display_data"
    },
    {
     "data": {
      "application/javascript": [
       "if (typeof Jupyter !== \"undefined\") {require.undef(\"nbextensions/vpython_libraries/glow.min\");}else{element.textContent = ' ';}"
      ],
      "text/plain": [
       "<IPython.core.display.Javascript object>"
      ]
     },
     "metadata": {},
     "output_type": "display_data"
    },
    {
     "data": {
      "application/javascript": [
       "if (typeof Jupyter !== \"undefined\") {require.undef(\"nbextensions/vpython_libraries/glowcomm\");}else{element.textContent = ' ';}"
      ],
      "text/plain": [
       "<IPython.core.display.Javascript object>"
      ]
     },
     "metadata": {},
     "output_type": "display_data"
    },
    {
     "data": {
      "application/javascript": [
       "if (typeof Jupyter !== \"undefined\") {require.undef(\"nbextensions/vpython_libraries/jquery-ui.custom.min\");}else{element.textContent = ' ';}"
      ],
      "text/plain": [
       "<IPython.core.display.Javascript object>"
      ]
     },
     "metadata": {},
     "output_type": "display_data"
    },
    {
     "data": {
      "application/javascript": [
       "if (typeof Jupyter !== \"undefined\") {require([\"nbextensions/vpython_libraries/glow.min\"], function(){console.log(\"GLOW LOADED\");});}else{element.textContent = ' ';}"
      ],
      "text/plain": [
       "<IPython.core.display.Javascript object>"
      ]
     },
     "metadata": {},
     "output_type": "display_data"
    },
    {
     "data": {
      "application/javascript": [
       "if (typeof Jupyter !== \"undefined\") {require([\"nbextensions/vpython_libraries/glowcomm\"], function(){console.log(\"GLOWCOMM LOADED\");});}else{element.textContent = ' ';}"
      ],
      "text/plain": [
       "<IPython.core.display.Javascript object>"
      ]
     },
     "metadata": {},
     "output_type": "display_data"
    },
    {
     "data": {
      "application/javascript": [
       "if (typeof Jupyter !== \"undefined\") {require([\"nbextensions/vpython_libraries/jquery-ui.custom.min\"], function(){console.log(\"JQUERY LOADED\");});}else{element.textContent = ' ';}"
      ],
      "text/plain": [
       "<IPython.core.display.Javascript object>"
      ]
     },
     "metadata": {},
     "output_type": "display_data"
    }
   ],
   "source": [
    "# Initialize canvas, and set parameters of star and planet.\n",
    "canvas()\n",
    "pos_planet = vector(0,2,0)   # initial position of planet\n",
    "v_planet   = vector(-22,0,0) # initial velocity of planet\n",
    "m_star     = 1000.           # mass of star (units where G=1)\n",
    "sphere(pos=vector(0,0,0), color=color.yellow, radius=0.1) # draw star\n",
    "\n",
    "# Animate orbit of planet\n",
    "animate_planet(pos_planet, v_planet, m_star, 1e-7)"
   ]
  },
  {
   "cell_type": "markdown",
   "metadata": {},
   "source": [
    "### 4. Investigation\n",
    "\n",
    "You should insert code and text cells below as required to investigate and discuss the effect of changing the parameters of the animation: time step, mass of star, initial position and velocity of planet. "
   ]
  },
  {
   "cell_type": "code",
   "execution_count": 8,
   "metadata": {},
   "outputs": [
    {
     "data": {
      "text/html": [
       "<div id=\"glowscript\" class=\"glowscript\"></div>"
      ],
      "text/plain": [
       "<IPython.core.display.HTML object>"
      ]
     },
     "metadata": {},
     "output_type": "display_data"
    },
    {
     "data": {
      "application/javascript": [
       "if (typeof Jupyter !== \"undefined\") { window.__context = { glowscript_container: $(\"#glowscript\").removeAttr(\"id\")};}else{ element.textContent = ' ';}"
      ],
      "text/plain": [
       "<IPython.core.display.Javascript object>"
      ]
     },
     "metadata": {},
     "output_type": "display_data"
    },
    {
     "data": {
      "text/html": [
       "<div id=\"glowscript\" class=\"glowscript\"></div>"
      ],
      "text/plain": [
       "<IPython.core.display.HTML object>"
      ]
     },
     "metadata": {},
     "output_type": "display_data"
    },
    {
     "data": {
      "application/javascript": [
       "if (typeof Jupyter !== \"undefined\") { window.__context = { glowscript_container: $(\"#glowscript\").removeAttr(\"id\")};}else{ element.textContent = ' ';}"
      ],
      "text/plain": [
       "<IPython.core.display.Javascript object>"
      ]
     },
     "metadata": {},
     "output_type": "display_data"
    }
   ],
   "source": [
    "canvas()\n",
    "pos_planet = vector(0,2,0)   \n",
    "v_planet   = vector(-22,0,0) \n",
    "m_star     = 1.           \n",
    "sphere(pos=vector(0,0,0), color=color.yellow, radius=0.1) \n",
    "animate_planet(pos_planet, v_planet, m_star, 1e-7)\n",
    "\n",
    "canvas()\n",
    "pos_planet = vector(0,2,0)   \n",
    "v_planet   = vector(-22,0,0) \n",
    "m_star     = 1.           \n",
    "sphere(pos=vector(0,0,0), color=color.yellow, radius=0.1) \n",
    "animate_planet(pos_planet, v_planet, m_star, 1e-4)"
   ]
  },
  {
   "cell_type": "code",
   "execution_count": 9,
   "metadata": {},
   "outputs": [
    {
     "data": {
      "text/html": [
       "<div id=\"glowscript\" class=\"glowscript\"></div>"
      ],
      "text/plain": [
       "<IPython.core.display.HTML object>"
      ]
     },
     "metadata": {},
     "output_type": "display_data"
    },
    {
     "data": {
      "application/javascript": [
       "if (typeof Jupyter !== \"undefined\") { window.__context = { glowscript_container: $(\"#glowscript\").removeAttr(\"id\")};}else{ element.textContent = ' ';}"
      ],
      "text/plain": [
       "<IPython.core.display.Javascript object>"
      ]
     },
     "metadata": {},
     "output_type": "display_data"
    },
    {
     "data": {
      "text/html": [
       "<div id=\"glowscript\" class=\"glowscript\"></div>"
      ],
      "text/plain": [
       "<IPython.core.display.HTML object>"
      ]
     },
     "metadata": {},
     "output_type": "display_data"
    },
    {
     "data": {
      "application/javascript": [
       "if (typeof Jupyter !== \"undefined\") { window.__context = { glowscript_container: $(\"#glowscript\").removeAttr(\"id\")};}else{ element.textContent = ' ';}"
      ],
      "text/plain": [
       "<IPython.core.display.Javascript object>"
      ]
     },
     "metadata": {},
     "output_type": "display_data"
    }
   ],
   "source": [
    "canvas()\n",
    "pos_planet = vector(0,2,0)   \n",
    "v_planet   = vector(-22,0,0) \n",
    "m_star     = 100.          \n",
    "sphere(pos=vector(0,0,0), color=color.yellow, radius=0.1) \n",
    "animate_planet(pos_planet, v_planet, m_star, 1e-7)\n",
    "\n",
    "canvas()\n",
    "pos_planet = vector(0,2,0)   \n",
    "v_planet   = vector(-22,0,0) \n",
    "m_star     = 100.          \n",
    "sphere(pos=vector(0,0,0), color=color.yellow, radius=0.1) \n",
    "animate_planet(pos_planet, v_planet, m_star, 1e-4)"
   ]
  },
  {
   "cell_type": "code",
   "execution_count": 10,
   "metadata": {},
   "outputs": [
    {
     "data": {
      "text/html": [
       "<div id=\"glowscript\" class=\"glowscript\"></div>"
      ],
      "text/plain": [
       "<IPython.core.display.HTML object>"
      ]
     },
     "metadata": {},
     "output_type": "display_data"
    },
    {
     "data": {
      "application/javascript": [
       "if (typeof Jupyter !== \"undefined\") { window.__context = { glowscript_container: $(\"#glowscript\").removeAttr(\"id\")};}else{ element.textContent = ' ';}"
      ],
      "text/plain": [
       "<IPython.core.display.Javascript object>"
      ]
     },
     "metadata": {},
     "output_type": "display_data"
    },
    {
     "data": {
      "text/html": [
       "<div id=\"glowscript\" class=\"glowscript\"></div>"
      ],
      "text/plain": [
       "<IPython.core.display.HTML object>"
      ]
     },
     "metadata": {},
     "output_type": "display_data"
    },
    {
     "data": {
      "application/javascript": [
       "if (typeof Jupyter !== \"undefined\") { window.__context = { glowscript_container: $(\"#glowscript\").removeAttr(\"id\")};}else{ element.textContent = ' ';}"
      ],
      "text/plain": [
       "<IPython.core.display.Javascript object>"
      ]
     },
     "metadata": {},
     "output_type": "display_data"
    },
    {
     "data": {
      "text/html": [
       "<div id=\"glowscript\" class=\"glowscript\"></div>"
      ],
      "text/plain": [
       "<IPython.core.display.HTML object>"
      ]
     },
     "metadata": {},
     "output_type": "display_data"
    },
    {
     "data": {
      "application/javascript": [
       "if (typeof Jupyter !== \"undefined\") { window.__context = { glowscript_container: $(\"#glowscript\").removeAttr(\"id\")};}else{ element.textContent = ' ';}"
      ],
      "text/plain": [
       "<IPython.core.display.Javascript object>"
      ]
     },
     "metadata": {},
     "output_type": "display_data"
    }
   ],
   "source": [
    "canvas()\n",
    "pos_planet = vector(0,2,0)   \n",
    "v_planet   = vector(-22,0,0) \n",
    "m_star     = 10000.         \n",
    "sphere(pos=vector(0,0,0), color=color.yellow, radius=0.1) \n",
    "animate_planet(pos_planet, v_planet, m_star, 1e-6)\n",
    "\n",
    "canvas()\n",
    "pos_planet = vector(0,2,0)   \n",
    "v_planet   = vector(-22,0,0) \n",
    "m_star     = 10000.          \n",
    "sphere(pos=vector(0,0,0), color=color.yellow, radius=0.1) \n",
    "animate_planet(pos_planet, v_planet, m_star, 1e-7)\n",
    "\n",
    "canvas()\n",
    "pos_planet = vector(0,2,0)   \n",
    "v_planet   = vector(-22,0,0) \n",
    "m_star     = 10000.          \n",
    "sphere(pos=vector(0,0,0), color=color.yellow, radius=0.1) \n",
    "animate_planet(pos_planet, v_planet, m_star, 1e-8)\n"
   ]
  },
  {
   "cell_type": "markdown",
   "metadata": {},
   "source": [
    "### Investigation : \n",
    "Increasing the dt, the orbit motion animation is more clear ( has more define path without any jumps).\n",
    "Increasing the mass of the sun, the orbit become more curved to a point it becomes elliptcal."
   ]
  },
  {
   "cell_type": "markdown",
   "metadata": {},
   "source": [
    "# Part B\n",
    "\n",
    "It is up to you to structure the rest of the notebook as you see fit, as you complete the tasks set in part B of the assignment.\n",
    "\n",
    "You can call the functions you have defined in part A, or copy and adapt them in part B, but **DO NOT CHANGE THE CODE IN PART A SUCH THAT THE CELLS IN PART A NO LONGER WORK CORRECTLY.** You do not want to lose marks in section A in completing section B.\n",
    "\n",
    "## Part B,1\n",
    "Simulate the paths of two separate planets in the gravitational field of the same star,not taking into account the gravitational attraction between the planets in this part, only the force between each planet and the star."
   ]
  },
  {
   "cell_type": "code",
   "execution_count": 11,
   "metadata": {},
   "outputs": [],
   "source": [
    "def animate_planets(position1, position2, velocity1, velocity2, m_star, dt):\n",
    "    \"\"\"\n",
    "    Animate planetary orbits from given starting positions, with given time step.\n",
    "    \n",
    "    Input:\n",
    "      - position1: position vector of the first planet at start of simulation\n",
    "      - velocity1: velocity vector of the first planet at start of simulation\n",
    "      - position2: position vector of the second planet at start of simulation\n",
    "      - velocity2: velocity vector of the second planet at start of simulation\n",
    "      - m_star:   mass of star\n",
    "      - dt:       time step\n",
    "    \"\"\"\n",
    "    planet1 = sphere(pos=position1 ,radius=0.1, make_trail=True, color=color.blue)\n",
    "    planet2 = sphere(pos=position2 ,radius=0.1, make_trail=True, color=color.red)\n",
    "    \n",
    "    fps = 1/dt                              # animation rate [Hz] from time step\n",
    "    time = 0.                               # initial time [s]\n",
    "    max_time = 1.\n",
    "    \n",
    "    while time < max_time:\n",
    "        rate(fps)\n",
    "        position1, velocity1 = move_planet(planet1.pos, velocity1, m_star, dt)    # Animation of planet 1\n",
    "        position2, velocity2 = move_planet(planet2.pos, velocity2, m_star, dt)    # Animation of planet 2\n",
    "        planet1.pos = position1\n",
    "        planet2.pos = position2\n",
    "        time += dt"
   ]
  },
  {
   "cell_type": "code",
   "execution_count": 12,
   "metadata": {},
   "outputs": [
    {
     "data": {
      "text/html": [
       "<div id=\"glowscript\" class=\"glowscript\"></div>"
      ],
      "text/plain": [
       "<IPython.core.display.HTML object>"
      ]
     },
     "metadata": {},
     "output_type": "display_data"
    },
    {
     "data": {
      "application/javascript": [
       "if (typeof Jupyter !== \"undefined\") { window.__context = { glowscript_container: $(\"#glowscript\").removeAttr(\"id\")};}else{ element.textContent = ' ';}"
      ],
      "text/plain": [
       "<IPython.core.display.Javascript object>"
      ]
     },
     "metadata": {},
     "output_type": "display_data"
    }
   ],
   "source": [
    "canvas()\n",
    "pos_planet1 = vector(1.85,0,0)   \n",
    "v_planet1   = vector(0,23.25,0) \n",
    "\n",
    "pos_planet2 = vector(1.96,0.4,0)   \n",
    "v_planet2   = vector(-4.44,21.9,0) \n",
    "\n",
    "m_star     = 1000.           \n",
    "sphere(pos=vector(0,0,0), color=color.yellow, radius=0.1) \n",
    "\n",
    "animate_planets(pos_planet1, pos_planet2, v_planet1, v_planet2, m_star, 1e-7)"
   ]
  },
  {
   "cell_type": "markdown",
   "metadata": {},
   "source": [
    "## Part B,2\n",
    "Simulate the paths of two separate planets in the gravitational field of the same star and this time taking into account the gravitational attraction between the planets. "
   ]
  },
  {
   "cell_type": "code",
   "execution_count": 13,
   "metadata": {},
   "outputs": [],
   "source": [
    "def move_planets(position1, position2, velocity1, velocity2, m_star, m1, m2, dt):\n",
    "    \"\"\"\n",
    "    Calculate motion of planet in the gravitational field of a star with given mass\n",
    "    at the origin, using Euler's method.\n",
    "    \n",
    "    Input:\n",
    "      - position1: position vector of planet one at start of time step\n",
    "      - position2: position vector of planet two at start of time step\n",
    "      - velocity1: velocity vector of planet one at start of time step\n",
    "      - velocity2: velocity vector of planet two at start of time step\n",
    "      - m_star:   mass of star\n",
    "      - m1:       mass of planet one\n",
    "      - m1:       mass of planet two\n",
    "      - dt:       time step\n",
    "      \n",
    "    Output: (position_new1, position_new2, velocity_new1, velocity_new2)\n",
    "      - position_new1: position vector of planet one at end of time step\n",
    "      - position_new2: position vector of planet two at end of time step\n",
    "      - velocity_new1: velocity vector of planet one at end of time step\n",
    "      - velocity_new2: velocity vector of planet two at end of time step\n",
    "      \n",
    "    Depends on:\n",
    "      - force = function to calculate the gravitational force between two objects\n",
    "    \n",
    "    \"\"\"\n",
    "    # Calculating the force of objects exerted on each otrher \n",
    "    force_planet1 = force(position1, vector(0,0,0) , m_star, m1) + force(position1, position2, m2, m1) \n",
    "    force_planet2 = force(position2, vector(0,0,0) , m_star, m2) + force(position2, position1, m1, m2) \n",
    " \n",
    "    # Calculating the position \n",
    "    position_new1 = (position1) + (velocity1 * dt)\n",
    "    position_new2 = (position2) + (velocity2 * dt)\n",
    "    \n",
    "    # Calculating the velocity \n",
    "    velocity_new1 = velocity1 + force_planet1 * dt\n",
    "    velocity_new2 = velocity2 + force_planet2 * dt\n",
    "  \n",
    "    \n",
    "    return position_new1, position_new2, velocity_new1, velocity_new2\n",
    "\n",
    "def animate_planets2(position1, position2, velocity1, velocity2, m_star, m1, m2, dt):\n",
    "    \"\"\"\n",
    "    Animate planetary orbits from given starting positions, with given time step.\n",
    "    \n",
    "    Input:\n",
    "      - position1: position vector of the first planet at start of simulation\n",
    "      - velocity1: velocity vector of the first planet at start of simulation\n",
    "      - position2: position vector of the second planet at start of simulation\n",
    "      - velocity2: velocity vector of the second planet at start of simulation\n",
    "      - m_star:   mass of star\n",
    "      - m1:       mass of planet one\n",
    "      - m1:       mass of planet two\n",
    "      - dt:       time step\n",
    "    \"\"\"\n",
    "    planet1 = sphere(pos=position1 ,radius=0.1, make_trail=True, color=color.blue)\n",
    "    planet2 = sphere(pos=position2 ,radius=0.1, make_trail=True, color=color.red)\n",
    "    \n",
    "    \n",
    "    fps = 1/dt                              # animation rate [Hz] from time step\n",
    "    time = 0.                               # initial time [s]\n",
    "    max_time = 1.\n",
    "    \n",
    "    while time < max_time:\n",
    "        rate(fps)\n",
    "        position1, position2, velocity1, velocity2 = move_planets(position1, position2, velocity1, velocity2, m_star, m1, m2, dt)\n",
    "        planet1.pos = position1\n",
    "        planet2.pos = position2\n",
    "        time += dt"
   ]
  },
  {
   "cell_type": "code",
   "execution_count": 14,
   "metadata": {},
   "outputs": [
    {
     "data": {
      "text/html": [
       "<div id=\"glowscript\" class=\"glowscript\"></div>"
      ],
      "text/plain": [
       "<IPython.core.display.HTML object>"
      ]
     },
     "metadata": {},
     "output_type": "display_data"
    },
    {
     "data": {
      "application/javascript": [
       "if (typeof Jupyter !== \"undefined\") { window.__context = { glowscript_container: $(\"#glowscript\").removeAttr(\"id\")};}else{ element.textContent = ' ';}"
      ],
      "text/plain": [
       "<IPython.core.display.Javascript object>"
      ]
     },
     "metadata": {},
     "output_type": "display_data"
    }
   ],
   "source": [
    "canvas()\n",
    "pos_planet1 = vector(1.85,0,0)   \n",
    "v_planet1   = vector(0,23.25,0) \n",
    "m1 = 1\n",
    "\n",
    "pos_planet2 = vector(1.96,0.4,0)   \n",
    "v_planet2   = vector(-4.44,21.9,0)\n",
    "m2 = 1\n",
    "\n",
    "m_star     = 1000.           \n",
    "sphere(pos=vector(0,0,0), color=color.yellow, radius=0.1) \n",
    "\n",
    "animate_planets2(pos_planet1,pos_planet2, v_planet1 , v_planet2 , m_star, m1, m2, 1e-7)"
   ]
  },
  {
   "cell_type": "code",
   "execution_count": 15,
   "metadata": {},
   "outputs": [
    {
     "data": {
      "text/html": [
       "<div id=\"glowscript\" class=\"glowscript\"></div>"
      ],
      "text/plain": [
       "<IPython.core.display.HTML object>"
      ]
     },
     "metadata": {},
     "output_type": "display_data"
    },
    {
     "data": {
      "application/javascript": [
       "if (typeof Jupyter !== \"undefined\") { window.__context = { glowscript_container: $(\"#glowscript\").removeAttr(\"id\")};}else{ element.textContent = ' ';}"
      ],
      "text/plain": [
       "<IPython.core.display.Javascript object>"
      ]
     },
     "metadata": {},
     "output_type": "display_data"
    }
   ],
   "source": [
    "canvas()\n",
    "pos_planet1 = vector(1.85,0,0)   \n",
    "v_planet1   = vector(0,23.25,0) \n",
    "m1 = 2\n",
    "\n",
    "pos_planet2 = vector(1.96,0.4,0)   \n",
    "v_planet2   = vector(-4.44,21.9,0)\n",
    "m2 = 2\n",
    "\n",
    "m_star     = 1000.           \n",
    "sphere(pos=vector(0,0,0), color=color.yellow, radius=0.1) \n",
    "\n",
    "animate_planets2(pos_planet1,pos_planet2, v_planet1 , v_planet2 , m_star, m1, m2, 1e-8)"
   ]
  },
  {
   "cell_type": "markdown",
   "metadata": {},
   "source": [
    "As we increase the mass of both planets, the orbital motion will be more 'wobelly', plants will spin out and spin in occasionally, also there will be two paths where both planets will be close together rotating each other and then setting on it original parts = ( blue planet inside , red planet outside)"
   ]
  },
  {
   "cell_type": "markdown",
   "metadata": {},
   "source": [
    "### Further Investigation:\n",
    "Here i will be investigating the effects of the masses of plants on the orbits and investigating the velocity for a stable circular orbit.     "
   ]
  },
  {
   "cell_type": "code",
   "execution_count": 16,
   "metadata": {},
   "outputs": [
    {
     "data": {
      "text/html": [
       "<div id=\"glowscript\" class=\"glowscript\"></div>"
      ],
      "text/plain": [
       "<IPython.core.display.HTML object>"
      ]
     },
     "metadata": {},
     "output_type": "display_data"
    },
    {
     "data": {
      "application/javascript": [
       "if (typeof Jupyter !== \"undefined\") { window.__context = { glowscript_container: $(\"#glowscript\").removeAttr(\"id\")};}else{ element.textContent = ' ';}"
      ],
      "text/plain": [
       "<IPython.core.display.Javascript object>"
      ]
     },
     "metadata": {},
     "output_type": "display_data"
    }
   ],
   "source": [
    "canvas()\n",
    "pos_planet1 = vector(1.85,0,0)   \n",
    "v_planet1   = vector(0,23.25,0) \n",
    "m1 = 10\n",
    "\n",
    "pos_planet2 = vector(1.96,0.4,0)   \n",
    "v_planet2   = vector(-4.44,21.9,0)\n",
    "m2 = 2\n",
    "\n",
    "m_star     = 1000.           \n",
    "sphere(pos=vector(0,0,0), color=color.yellow, radius=0.1) \n",
    "\n",
    "animate_planets2(pos_planet1,pos_planet2, v_planet1 , v_planet2 , m_star, m1, m2, 1e-7)"
   ]
  },
  {
   "cell_type": "markdown",
   "metadata": {},
   "source": [
    "Increaing blue planet mass to 10. Planet 1/blue, has an eliptical orbit which gets longer with each orbit. Planet 2/Red has initially less elliptical orbit, when two planets come closer together red planet get further away and maintains less elliptcal orbit."
   ]
  },
  {
   "cell_type": "code",
   "execution_count": 17,
   "metadata": {},
   "outputs": [
    {
     "data": {
      "text/html": [
       "<div id=\"glowscript\" class=\"glowscript\"></div>"
      ],
      "text/plain": [
       "<IPython.core.display.HTML object>"
      ]
     },
     "metadata": {},
     "output_type": "display_data"
    },
    {
     "data": {
      "application/javascript": [
       "if (typeof Jupyter !== \"undefined\") { window.__context = { glowscript_container: $(\"#glowscript\").removeAttr(\"id\")};}else{ element.textContent = ' ';}"
      ],
      "text/plain": [
       "<IPython.core.display.Javascript object>"
      ]
     },
     "metadata": {},
     "output_type": "display_data"
    }
   ],
   "source": [
    "canvas()\n",
    "pos_planet1 = vector(1.85,0,0)   \n",
    "v_planet1   = vector(0,23.25,0) \n",
    "m1 = 2\n",
    "\n",
    "pos_planet2 = vector(1.96,0.4,0)   \n",
    "v_planet2   = vector(-4.44,21.9,0)\n",
    "m2 = 10\n",
    "\n",
    "m_star     = 1000.           \n",
    "sphere(pos=vector(0,0,0), color=color.yellow, radius=0.1) \n",
    "\n",
    "animate_planets2(pos_planet1,pos_planet2, v_planet1 , v_planet2 , m_star, m1, m2, 1e-7)"
   ]
  },
  {
   "cell_type": "markdown",
   "metadata": {},
   "source": [
    "Increasing red plants mass to 10. Blue planet maintains less elliptical orbit which sometimes becomes circular. Red planet follows an elliptical orbit which with every orbit becomes further away."
   ]
  },
  {
   "cell_type": "code",
   "execution_count": 18,
   "metadata": {},
   "outputs": [
    {
     "data": {
      "text/html": [
       "<div id=\"glowscript\" class=\"glowscript\"></div>"
      ],
      "text/plain": [
       "<IPython.core.display.HTML object>"
      ]
     },
     "metadata": {},
     "output_type": "display_data"
    },
    {
     "data": {
      "application/javascript": [
       "if (typeof Jupyter !== \"undefined\") { window.__context = { glowscript_container: $(\"#glowscript\").removeAttr(\"id\")};}else{ element.textContent = ' ';}"
      ],
      "text/plain": [
       "<IPython.core.display.Javascript object>"
      ]
     },
     "metadata": {},
     "output_type": "display_data"
    },
    {
     "ename": "KeyboardInterrupt",
     "evalue": "",
     "output_type": "error",
     "traceback": [
      "\u001b[0;31m---------------------------------------------------------------------------\u001b[0m",
      "\u001b[0;31mKeyboardInterrupt\u001b[0m                         Traceback (most recent call last)",
      "\u001b[0;32m<ipython-input-18-f03b9c34fb3b>\u001b[0m in \u001b[0;36m<module>\u001b[0;34m\u001b[0m\n\u001b[1;32m     11\u001b[0m \u001b[0msphere\u001b[0m\u001b[0;34m(\u001b[0m\u001b[0mpos\u001b[0m\u001b[0;34m=\u001b[0m\u001b[0mvector\u001b[0m\u001b[0;34m(\u001b[0m\u001b[0;36m0\u001b[0m\u001b[0;34m,\u001b[0m\u001b[0;36m0\u001b[0m\u001b[0;34m,\u001b[0m\u001b[0;36m0\u001b[0m\u001b[0;34m)\u001b[0m\u001b[0;34m,\u001b[0m \u001b[0mcolor\u001b[0m\u001b[0;34m=\u001b[0m\u001b[0mcolor\u001b[0m\u001b[0;34m.\u001b[0m\u001b[0myellow\u001b[0m\u001b[0;34m,\u001b[0m \u001b[0mradius\u001b[0m\u001b[0;34m=\u001b[0m\u001b[0;36m0.1\u001b[0m\u001b[0;34m)\u001b[0m\u001b[0;34m\u001b[0m\u001b[0;34m\u001b[0m\u001b[0m\n\u001b[1;32m     12\u001b[0m \u001b[0;34m\u001b[0m\u001b[0m\n\u001b[0;32m---> 13\u001b[0;31m \u001b[0manimate_planets2\u001b[0m\u001b[0;34m(\u001b[0m\u001b[0mpos_planet1\u001b[0m\u001b[0;34m,\u001b[0m\u001b[0mpos_planet2\u001b[0m\u001b[0;34m,\u001b[0m \u001b[0mv_planet1\u001b[0m \u001b[0;34m,\u001b[0m \u001b[0mv_planet2\u001b[0m \u001b[0;34m,\u001b[0m \u001b[0mm_star\u001b[0m\u001b[0;34m,\u001b[0m \u001b[0mm1\u001b[0m\u001b[0;34m,\u001b[0m \u001b[0mm2\u001b[0m\u001b[0;34m,\u001b[0m \u001b[0;36m1e-7\u001b[0m\u001b[0;34m)\u001b[0m\u001b[0;34m\u001b[0m\u001b[0;34m\u001b[0m\u001b[0m\n\u001b[0m",
      "\u001b[0;32m<ipython-input-13-fbfa04f7916f>\u001b[0m in \u001b[0;36manimate_planets2\u001b[0;34m(position1, position2, velocity1, velocity2, m_star, m1, m2, dt)\u001b[0m\n\u001b[1;32m     61\u001b[0m     \u001b[0;32mwhile\u001b[0m \u001b[0mtime\u001b[0m \u001b[0;34m<\u001b[0m \u001b[0mmax_time\u001b[0m\u001b[0;34m:\u001b[0m\u001b[0;34m\u001b[0m\u001b[0;34m\u001b[0m\u001b[0m\n\u001b[1;32m     62\u001b[0m         \u001b[0mrate\u001b[0m\u001b[0;34m(\u001b[0m\u001b[0mfps\u001b[0m\u001b[0;34m)\u001b[0m\u001b[0;34m\u001b[0m\u001b[0;34m\u001b[0m\u001b[0m\n\u001b[0;32m---> 63\u001b[0;31m         \u001b[0mposition1\u001b[0m\u001b[0;34m,\u001b[0m \u001b[0mposition2\u001b[0m\u001b[0;34m,\u001b[0m \u001b[0mvelocity1\u001b[0m\u001b[0;34m,\u001b[0m \u001b[0mvelocity2\u001b[0m \u001b[0;34m=\u001b[0m \u001b[0mmove_planets\u001b[0m\u001b[0;34m(\u001b[0m\u001b[0mposition1\u001b[0m\u001b[0;34m,\u001b[0m \u001b[0mposition2\u001b[0m\u001b[0;34m,\u001b[0m \u001b[0mvelocity1\u001b[0m\u001b[0;34m,\u001b[0m \u001b[0mvelocity2\u001b[0m\u001b[0;34m,\u001b[0m \u001b[0mm_star\u001b[0m\u001b[0;34m,\u001b[0m \u001b[0mm1\u001b[0m\u001b[0;34m,\u001b[0m \u001b[0mm2\u001b[0m\u001b[0;34m,\u001b[0m \u001b[0mdt\u001b[0m\u001b[0;34m)\u001b[0m\u001b[0;34m\u001b[0m\u001b[0;34m\u001b[0m\u001b[0m\n\u001b[0m\u001b[1;32m     64\u001b[0m         \u001b[0mplanet1\u001b[0m\u001b[0;34m.\u001b[0m\u001b[0mpos\u001b[0m \u001b[0;34m=\u001b[0m \u001b[0mposition1\u001b[0m\u001b[0;34m\u001b[0m\u001b[0;34m\u001b[0m\u001b[0m\n\u001b[1;32m     65\u001b[0m         \u001b[0mplanet2\u001b[0m\u001b[0;34m.\u001b[0m\u001b[0mpos\u001b[0m \u001b[0;34m=\u001b[0m \u001b[0mposition2\u001b[0m\u001b[0;34m\u001b[0m\u001b[0;34m\u001b[0m\u001b[0m\n",
      "\u001b[0;32m<ipython-input-13-fbfa04f7916f>\u001b[0m in \u001b[0;36mmove_planets\u001b[0;34m(position1, position2, velocity1, velocity2, m_star, m1, m2, dt)\u001b[0m\n\u001b[1;32m     24\u001b[0m \u001b[0;34m\u001b[0m\u001b[0m\n\u001b[1;32m     25\u001b[0m     \"\"\"\n\u001b[0;32m---> 26\u001b[0;31m     \u001b[0mforce_planet1\u001b[0m \u001b[0;34m=\u001b[0m \u001b[0mforce\u001b[0m\u001b[0;34m(\u001b[0m\u001b[0mposition1\u001b[0m\u001b[0;34m,\u001b[0m \u001b[0mvector\u001b[0m\u001b[0;34m(\u001b[0m\u001b[0;36m0\u001b[0m\u001b[0;34m,\u001b[0m\u001b[0;36m0\u001b[0m\u001b[0;34m,\u001b[0m\u001b[0;36m0\u001b[0m\u001b[0;34m)\u001b[0m \u001b[0;34m,\u001b[0m \u001b[0mm_star\u001b[0m\u001b[0;34m,\u001b[0m \u001b[0mm1\u001b[0m\u001b[0;34m)\u001b[0m \u001b[0;34m+\u001b[0m \u001b[0mforce\u001b[0m\u001b[0;34m(\u001b[0m\u001b[0mposition1\u001b[0m\u001b[0;34m,\u001b[0m \u001b[0mposition2\u001b[0m\u001b[0;34m,\u001b[0m \u001b[0mm2\u001b[0m\u001b[0;34m,\u001b[0m \u001b[0mm1\u001b[0m\u001b[0;34m)\u001b[0m\u001b[0;34m\u001b[0m\u001b[0;34m\u001b[0m\u001b[0m\n\u001b[0m\u001b[1;32m     27\u001b[0m     \u001b[0mforce_planet2\u001b[0m \u001b[0;34m=\u001b[0m \u001b[0mforce\u001b[0m\u001b[0;34m(\u001b[0m\u001b[0mposition2\u001b[0m\u001b[0;34m,\u001b[0m \u001b[0mvector\u001b[0m\u001b[0;34m(\u001b[0m\u001b[0;36m0\u001b[0m\u001b[0;34m,\u001b[0m\u001b[0;36m0\u001b[0m\u001b[0;34m,\u001b[0m\u001b[0;36m0\u001b[0m\u001b[0;34m)\u001b[0m \u001b[0;34m,\u001b[0m \u001b[0mm_star\u001b[0m\u001b[0;34m,\u001b[0m \u001b[0mm2\u001b[0m\u001b[0;34m)\u001b[0m \u001b[0;34m+\u001b[0m \u001b[0mforce\u001b[0m\u001b[0;34m(\u001b[0m\u001b[0mposition2\u001b[0m\u001b[0;34m,\u001b[0m \u001b[0mposition1\u001b[0m\u001b[0;34m,\u001b[0m \u001b[0mm1\u001b[0m\u001b[0;34m,\u001b[0m \u001b[0mm2\u001b[0m\u001b[0;34m)\u001b[0m\u001b[0;34m\u001b[0m\u001b[0;34m\u001b[0m\u001b[0m\n\u001b[1;32m     28\u001b[0m \u001b[0;34m\u001b[0m\u001b[0m\n",
      "\u001b[0;32m<ipython-input-2-362bd4202325>\u001b[0m in \u001b[0;36mforce\u001b[0;34m(pos1, pos2, m1, m2)\u001b[0m\n\u001b[1;32m     10\u001b[0m       \u001b[0;34m-\u001b[0m \u001b[0mG\u001b[0m    \u001b[0;34m=\u001b[0m \u001b[0mgravitational\u001b[0m \u001b[0mconstant\u001b[0m \u001b[0;34m(\u001b[0m\u001b[0;32mglobal\u001b[0m \u001b[0mvariable\u001b[0m\u001b[0;34m)\u001b[0m\u001b[0;34m\u001b[0m\u001b[0;34m\u001b[0m\u001b[0m\n\u001b[1;32m     11\u001b[0m     \"\"\"\n\u001b[0;32m---> 12\u001b[0;31m     \u001b[0mforce\u001b[0m \u001b[0;34m=\u001b[0m \u001b[0;34m(\u001b[0m  \u001b[0;34m-\u001b[0m\u001b[0mG\u001b[0m \u001b[0;34m*\u001b[0m \u001b[0;34m(\u001b[0m\u001b[0mm1\u001b[0m \u001b[0;34m*\u001b[0m \u001b[0mm2\u001b[0m\u001b[0;34m)\u001b[0m \u001b[0;34m*\u001b[0m \u001b[0;34m(\u001b[0m\u001b[0mpos1\u001b[0m \u001b[0;34m-\u001b[0m \u001b[0mpos2\u001b[0m\u001b[0;34m)\u001b[0m \u001b[0;34m)\u001b[0m \u001b[0;34m/\u001b[0m \u001b[0mmag\u001b[0m\u001b[0;34m(\u001b[0m\u001b[0;34m(\u001b[0m\u001b[0mpos1\u001b[0m \u001b[0;34m-\u001b[0m \u001b[0mpos2\u001b[0m\u001b[0;34m)\u001b[0m\u001b[0;34m)\u001b[0m\u001b[0;34m**\u001b[0m\u001b[0;36m3\u001b[0m\u001b[0;34m\u001b[0m\u001b[0;34m\u001b[0m\u001b[0m\n\u001b[0m\u001b[1;32m     13\u001b[0m     \u001b[0;32mreturn\u001b[0m \u001b[0mforce\u001b[0m\u001b[0;34m\u001b[0m\u001b[0;34m\u001b[0m\u001b[0m\n",
      "\u001b[0;31mKeyboardInterrupt\u001b[0m: "
     ]
    }
   ],
   "source": [
    "canvas()\n",
    "pos_planet1 = vector(1.85,0,0)   \n",
    "v_planet1   = vector(0,23.25,0) \n",
    "m1 = 2\n",
    "\n",
    "pos_planet2 = vector(1.96,0.4,0)   \n",
    "v_planet2   = vector(-4.44,21.9,0)\n",
    "m2 = 100\n",
    "\n",
    "m_star     = 1000.           \n",
    "sphere(pos=vector(0,0,0), color=color.yellow, radius=0.1) \n",
    "\n",
    "animate_planets2(pos_planet1,pos_planet2, v_planet1 , v_planet2 , m_star, m1, m2, 1e-7)"
   ]
  },
  {
   "cell_type": "markdown",
   "metadata": {},
   "source": [
    "Increasing blue planets mass to 100. Blue planet follows circular orbit whereas red planet slingtshot out of the system "
   ]
  },
  {
   "cell_type": "code",
   "execution_count": null,
   "metadata": {},
   "outputs": [],
   "source": [
    "canvas()\n",
    "pos_planet1 = vector(1.85,0,0)   \n",
    "v_planet1   = vector(0,23.25,0) \n",
    "m1 = 100\n",
    "\n",
    "pos_planet2 = vector(1.96,0.4,0)   \n",
    "v_planet2   = vector(-4.44,21.9,0)\n",
    "m2 = 2\n",
    "\n",
    "m_star     = 1000.           \n",
    "sphere(pos=vector(0,0,0), color=color.yellow, radius=0.1) \n",
    "\n",
    "animate_planets2(pos_planet1,pos_planet2, v_planet1 , v_planet2 , m_star, m1, m2, 1e-7)"
   ]
  },
  {
   "cell_type": "markdown",
   "metadata": {},
   "source": [
    "Increasing Red planets mass to 100Red planet follows circular orbit whereas blue planet slingtshot out of the system "
   ]
  },
  {
   "cell_type": "code",
   "execution_count": null,
   "metadata": {},
   "outputs": [],
   "source": [
    "canvas()\n",
    "pos_planet1 = vector(1.85,0,0)   \n",
    "v_planet1   = vector(0,23.25,0) \n",
    "m1 = 0.001\n",
    "\n",
    "pos_planet2 = vector(1.96,0.4,0)   \n",
    "v_planet2   = vector(-4.44,21.9,0)\n",
    "m2 = 0.001\n",
    "\n",
    "m_star     = 1000.           \n",
    "sphere(pos=vector(0,0,0), color=color.yellow, radius=0.1) \n",
    "\n",
    "animate_planets2(pos_planet1,pos_planet2, v_planet1 , v_planet2 , m_star, m1, m2, 1e-7)"
   ]
  },
  {
   "cell_type": "markdown",
   "metadata": {},
   "source": [
    "Decreasing both palnets masses .Both planets exit the system"
   ]
  },
  {
   "cell_type": "code",
   "execution_count": null,
   "metadata": {},
   "outputs": [],
   "source": [
    "canvas()\n",
    "pos_planet1 = vector(1.85,0,0)   \n",
    "v_planet1   = vector(0,23.25,0) \n",
    "m1 = 1\n",
    "\n",
    "pos_planet2 = vector(1.96,0.4,0)   \n",
    "v_planet2   = vector(-4.44,21.9,0)\n",
    "m2 = 1\n",
    "\n",
    "m_star     = 10000.           \n",
    "sphere(pos=vector(0,0,0), color=color.yellow, radius=0.1) \n",
    "\n",
    "animate_planets2(pos_planet1,pos_planet2, v_planet1 , v_planet2 , m_star, m1, m2, 1e-7)"
   ]
  },
  {
   "cell_type": "markdown",
   "metadata": {},
   "source": [
    "Increasing mass of the sun. Both planets follow elliptical orbit which has increasing radius "
   ]
  },
  {
   "cell_type": "code",
   "execution_count": null,
   "metadata": {},
   "outputs": [],
   "source": [
    "canvas()\n",
    "pos_planet1 = vector(1.85,0,0)   \n",
    "v_planet1   = vector(0,23.25,0) \n",
    "m1 = 0.1\n",
    "\n",
    "pos_planet2 = vector(1.96,0.4,0)   \n",
    "v_planet2   = vector(-4.44,21.9,0)\n",
    "m2 = 0.1\n",
    "\n",
    "m_star     = 10000.           \n",
    "sphere(pos=vector(0,0,0), color=color.yellow, radius=0.1) \n",
    "\n",
    "animate_planets2(pos_planet1,pos_planet2, v_planet1 , v_planet2 , m_star, m1, m2, 1e-7)"
   ]
  },
  {
   "cell_type": "markdown",
   "metadata": {},
   "source": [
    "Decreasing masses of the planets and increasing mass of the sun. Both follow stable circular orbit "
   ]
  },
  {
   "cell_type": "markdown",
   "metadata": {},
   "source": [
    "#### Conclusion\n",
    "Overall, changing the masses/positions/ velocity of the planets storngly affects the system orbital motion. In order to get a stable orbit of both, i had to increase the mass of the sun and decrease the masses of the planets."
   ]
  },
  {
   "cell_type": "code",
   "execution_count": null,
   "metadata": {},
   "outputs": [],
   "source": []
  }
 ],
 "metadata": {
  "kernelspec": {
   "display_name": "Python 3",
   "language": "python",
   "name": "python3"
  },
  "language_info": {
   "codemirror_mode": {
    "name": "ipython",
    "version": 3
   },
   "file_extension": ".py",
   "mimetype": "text/x-python",
   "name": "python",
   "nbconvert_exporter": "python",
   "pygments_lexer": "ipython3",
   "version": "3.8.8"
  },
  "toc": {
   "base_numbering": 1,
   "nav_menu": {},
   "number_sections": false,
   "sideBar": true,
   "skip_h1_title": false,
   "title_cell": "Table of Contents",
   "title_sidebar": "Contents",
   "toc_cell": false,
   "toc_position": {},
   "toc_section_display": true,
   "toc_window_display": false
  }
 },
 "nbformat": 4,
 "nbformat_minor": 4
}
